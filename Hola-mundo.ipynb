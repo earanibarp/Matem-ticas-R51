{
 "cells": [
  {
   "attachments": {},
   "cell_type": "markdown",
   "metadata": {},
   "source": [
    "# Título 1\n",
    "## Título 2\n",
    "________________________________\n",
    "- Lista 1\n",
    "- Lista 2\n",
    "    - Lista 2.1\n",
    "    - Lista 2.2\n",
    "_______________________________________\n",
    "### Texto en negrita\n",
    "**Palabra** o __Palabra en negrita__\n",
    "\n",
    "### Texto en cursiva\n",
    "*Cursiva* o _Texto en cursiva_\n",
    "\n",
    "__________________________________\n",
    "### Hipervinculos\n",
    "\n",
    "[Texto](https://www.google.com/url?sa=i&url=https%3A%2F%2Fwww.tooltyp.com%2F8-beneficios-de-usar-imagenes-en-nuestros-sitios-web%2F&psig=AOvVaw1JHndIgZCc8FjMzWtiYFO4&ust=1680639558495000&source=images&cd=vfe&ved=0CBAQjRxqFwoTCMDHq7HEjv4CFQAAAAAdAAAAABAE)\n",
    "__________________________________\n",
    "### Imágenes\n",
    "\n",
    "![Texto de imagen](https://d7lju56vlbdri.cloudfront.net/var/ezwebin_site/storage/images/_aliases/img_1col/noticias/solar-orbiter-toma-imagenes-del-sol-como-nunca-antes/9437612-1-esl-MX/Solar-Orbiter-toma-imagenes-del-Sol-como-nunca-antes.jpg)\n",
    "\n",
    "<img src=\"https://d7lju56vlbdri.cloudfront.net/var/ezwebin_site/storage/images/_aliases/img_1col/noticias/solar-orbiter-toma-imagenes-del-sol-como-nunca-antes/9437612-1-esl-MX/Solar-Orbiter-toma-imagenes-del-Sol-como-nunca-antes.jpg\" width=\"200\" heigth=\"200\">"
   ]
  },
  {
   "attachments": {},
   "cell_type": "markdown",
   "metadata": {},
   "source": [
    "# Función __*print()*__"
   ]
  },
  {
   "cell_type": "code",
   "execution_count": 1,
   "metadata": {},
   "outputs": [
    {
     "name": "stdout",
     "output_type": "stream",
     "text": [
      "¡Hola Mundo!\n"
     ]
    }
   ],
   "source": [
    "# Utilizando la función print \n",
    "\"\"\"Esto\n",
    "es \n",
    "un\n",
    "comentario\n",
    "multilinea\"\"\"\n",
    "\n",
    "\n",
    "print(\"¡Hola Mundo!\")"
   ]
  },
  {
   "cell_type": "code",
   "execution_count": 10,
   "metadata": {},
   "outputs": [
    {
     "name": "stdout",
     "output_type": "stream",
     "text": [
      "Saldo actual 20\n"
     ]
    }
   ],
   "source": [
    "# Las variables se pueden reasignar\n",
    "saldo = 50\n",
    "saldo = 20\n",
    "# Para concatenar texto y el valor de una variable se utiliza la coma (,)\n",
    "print(\"Saldo actual\", saldo)"
   ]
  },
  {
   "cell_type": "code",
   "execution_count": 11,
   "metadata": {},
   "outputs": [
    {
     "data": {
      "text/plain": [
       "int"
      ]
     },
     "execution_count": 11,
     "metadata": {},
     "output_type": "execute_result"
    }
   ],
   "source": [
    "# Para saber qué tipo de dato está almacenando mi variable se utiliza la función 'type'\n",
    "type(saldo)"
   ]
  },
  {
   "cell_type": "code",
   "execution_count": 31,
   "metadata": {},
   "outputs": [
    {
     "name": "stdout",
     "output_type": "stream",
     "text": [
      "Mi nombre es: Monty J \n",
      " Monty J Python."
     ]
    },
    {
     "data": {
      "text/plain": [
       "str"
      ]
     },
     "execution_count": 31,
     "metadata": {},
     "output_type": "execute_result"
    }
   ],
   "source": [
    "# Ejercicio-1: Guardar en 2 variables su nombre y apellido e imprimirlos por consola \n",
    "\n",
    "nombre = \"Monty J\"\n",
    "apellido = \"Python\"\n",
    "\n",
    "print(\"Mi nombre es:\", nombre,\"\\n\", nombre, apellido, sep=\" \", end=\".\")\n",
    "type(nombre)"
   ]
  },
  {
   "attachments": {},
   "cell_type": "markdown",
   "metadata": {},
   "source": [
    "# Métodos\n",
    "______________________"
   ]
  },
  {
   "cell_type": "code",
   "execution_count": 32,
   "metadata": {},
   "outputs": [
    {
     "data": {
      "text/plain": [
       "'MONTY J'"
      ]
     },
     "execution_count": 32,
     "metadata": {},
     "output_type": "execute_result"
    }
   ],
   "source": [
    "# Mayusculas\n",
    "nombre.upper()"
   ]
  },
  {
   "cell_type": "code",
   "execution_count": 33,
   "metadata": {},
   "outputs": [
    {
     "data": {
      "text/plain": [
       "'monty j'"
      ]
     },
     "execution_count": 33,
     "metadata": {},
     "output_type": "execute_result"
    }
   ],
   "source": [
    "# Minusculas\n",
    "nombre.lower()"
   ]
  },
  {
   "cell_type": "code",
   "execution_count": 34,
   "metadata": {},
   "outputs": [
    {
     "data": {
      "text/plain": [
       "'Monty J'"
      ]
     },
     "execution_count": 34,
     "metadata": {},
     "output_type": "execute_result"
    }
   ],
   "source": [
    "# Título: cada palabra se colcoa en mayuscula\n",
    "nombre.title()"
   ]
  },
  {
   "cell_type": "code",
   "execution_count": 36,
   "metadata": {},
   "outputs": [
    {
     "data": {
      "text/plain": [
       "1"
      ]
     },
     "execution_count": 36,
     "metadata": {},
     "output_type": "execute_result"
    }
   ],
   "source": [
    "# Contar la cantidad de veces que se repite un caracter\n",
    "nombre.count(\"o\")"
   ]
  },
  {
   "cell_type": "code",
   "execution_count": 39,
   "metadata": {},
   "outputs": [
    {
     "data": {
      "text/plain": [
       "True"
      ]
     },
     "execution_count": 39,
     "metadata": {},
     "output_type": "execute_result"
    }
   ],
   "source": [
    "# Comprobar si la palabra inicia con cierto caracter\n",
    "nombre.startswith(\"M\")"
   ]
  },
  {
   "cell_type": "code",
   "execution_count": 44,
   "metadata": {},
   "outputs": [
    {
     "data": {
      "text/plain": [
       "False"
      ]
     },
     "execution_count": 44,
     "metadata": {},
     "output_type": "execute_result"
    }
   ],
   "source": [
    "# Comprobar si la palabra termina con cierto caracter\n",
    "nombre.endswith(\"j\")"
   ]
  },
  {
   "cell_type": "code",
   "execution_count": 46,
   "metadata": {},
   "outputs": [
    {
     "name": "stdout",
     "output_type": "stream",
     "text": [
      "Calcular el área de un triángulo\n",
      "El área del triángulo es: 17.5\n"
     ]
    }
   ],
   "source": [
    "# Ejercicio 2\n",
    "# Realizar un código para evaluar el área de un triángulo, mostrar/imprimir el resultado en consola\n",
    "print(\"Calcular el área de un triángulo\")\n",
    "base = 5\n",
    "altura = 7\n",
    "\n",
    "resultado = (base * altura / 2)\n",
    "\n",
    "print(\"El área del triángulo es:\", resultado)"
   ]
  },
  {
   "cell_type": "code",
   "execution_count": 54,
   "metadata": {},
   "outputs": [
    {
     "name": "stdout",
     "output_type": "stream",
     "text": [
      "Juan | 3 | María | 5 | Luis | 6\n",
      "La cantidad total de manzanas es:  14\n"
     ]
    }
   ],
   "source": [
    "# Ejercicio 3:\n",
    "\"\"\" Había una vez 3 personas, Juan tenía 3 manzanas, María tenía 5 manzanas, y Luis tenía 6 manzanas. \n",
    "Se pide que:\n",
    "- Se cree una variable para cada persona y asignarles el número de manzanas que tiene cada uno\n",
    "- Imprimir/Mostrar por consola los nombres de cada persona junto con la cantidad de manzanas, separados por un \"|\"\n",
    "- Crear una variable para almacenar el total de manzanas e imprimir su valor por consola\"\"\"\n",
    "\n",
    "juan = 3\n",
    "maria = 5\n",
    "luis = 6\n",
    "\n",
    "print(\"Juan\", juan, \"María\", maria, \"Luis\", luis, sep=\" | \")\n",
    "\n",
    "total_manzanas = juan + maria + luis\n",
    "\n",
    "print(\"La cantidad total de manzanas es: \", total_manzanas)\n"
   ]
  },
  {
   "attachments": {},
   "cell_type": "markdown",
   "metadata": {},
   "source": [
    "# Función __*input()*__"
   ]
  },
  {
   "cell_type": "code",
   "execution_count": 64,
   "metadata": {},
   "outputs": [
    {
     "name": "stdout",
     "output_type": "stream",
     "text": [
      "Tu edad duplicada es de:  40\n"
     ]
    }
   ],
   "source": [
    "edad = int(input(\"Ingresa tu edad: \"))\n",
    "print(\"Tu edad duplicada es de: \", edad*2)"
   ]
  },
  {
   "cell_type": "code",
   "execution_count": 62,
   "metadata": {},
   "outputs": [
    {
     "name": "stdout",
     "output_type": "stream",
     "text": [
      "2\n",
      "2\n"
     ]
    }
   ],
   "source": [
    "print(\"2\") # String / Cadena de texto\n",
    "print(2) # Int / Entero "
   ]
  },
  {
   "cell_type": "code",
   "execution_count": 65,
   "metadata": {},
   "outputs": [
    {
     "name": "stdout",
     "output_type": "stream",
     "text": [
      "La suma es:  7.0\n",
      "La resta es:  2.5999999999999996\n",
      "La multiplicación es:  10.56\n",
      "La división es:  2.1818181818181817\n"
     ]
    }
   ],
   "source": [
    "# Ejercicio 4:\n",
    "\"\"\" Crear 2 variables y asignarles valores flotantes (decimales) e imprimir la suma, resta, multiplicación\n",
    "y división por consola\"\"\"\n",
    "\n",
    "numero1 = float(input(\"Ingresa el primer número decimal: \"))\n",
    "numero2 = float(input(\"Ingresa el segundo número decimal: \"))\n",
    "\n",
    "print(\"La suma es: \", numero1 + numero2)\n",
    "print(\"La resta es: \", numero1 - numero2)\n",
    "print(\"La multiplicación es: \", numero1 * numero2)\n",
    "print(\"La división es: \", numero1 / numero2)"
   ]
  },
  {
   "cell_type": "code",
   "execution_count": 4,
   "metadata": {},
   "outputs": [
    {
     "name": "stdout",
     "output_type": "stream",
     "text": [
      "y= 0.09901951266867294\n"
     ]
    }
   ],
   "source": [
    "x = float(input(\"Ingresa un valor para x: \"))\n",
    "\n",
    "# Escribe tu código aquí\n",
    "y = 1/(x + 1/(x + 1/(x + 1/x)))\n",
    "\n",
    "print(\"y=\", y, sep=\" \")\n"
   ]
  }
 ],
 "metadata": {
  "kernelspec": {
   "display_name": "Python 3",
   "language": "python",
   "name": "python3"
  },
  "language_info": {
   "codemirror_mode": {
    "name": "ipython",
    "version": 3
   },
   "file_extension": ".py",
   "mimetype": "text/x-python",
   "name": "python",
   "nbconvert_exporter": "python",
   "pygments_lexer": "ipython3",
   "version": "3.10.10"
  },
  "orig_nbformat": 4
 },
 "nbformat": 4,
 "nbformat_minor": 2
}
